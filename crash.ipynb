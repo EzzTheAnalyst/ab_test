{
 "cells": [
  {
   "cell_type": "code",
   "execution_count": 2,
   "id": "ef70a5ea",
   "metadata": {},
   "outputs": [],
   "source": [
    "import pandas as pd\n",
    "import numpy as np"
   ]
  },
  {
   "cell_type": "markdown",
   "id": "263d2fac",
   "metadata": {},
   "source": [
    "# What is Machine Learning?"
   ]
  },
  {
   "cell_type": "markdown",
   "id": "0c67bc45",
   "metadata": {},
   "source": [
    "Machine learning (ML) powers some of the most important technologies we use, from translation apps to autonomous vehicles. This course explains the core concepts behind ML.\n",
    "\n",
    "ML offers a new way to solve problems, answer complex questions, and create new content. ML can predict the weather, estimate travel times, recommend songs, auto-complete sentences, summarize articles, and generate never-seen-before images.\n",
    "\n",
    "In basic terms, ML is the process of training a piece of software, called a model, to make useful predictions or generate content (like text, images, audio, or video) from data.\n",
    "\n",
    "For example, suppose we wanted to create an app to predict rainfall. We could use either a traditional approach or an ML approach. Using a traditional approach, we'd create a physics-based representation of the Earth's atmosphere and surface, computing massive amounts of fluid dynamics equations. This is incredibly difficult.\n",
    "\n",
    "Using an ML approach, we would give an ML model enormous amounts of weather data until the ML model eventually learned the mathematical relationship between weather patterns that produce differing amounts of rain. We would then give the model the current weather data, and it would predict the amount of rain."
   ]
  },
  {
   "cell_type": "markdown",
   "id": "4734cfc7",
   "metadata": {},
   "source": [
    "# Types of ML\n",
    "- Supervied learning\n",
    "- Un-Supervied learning\n",
    "- Reinforcement learning\n",
    "- Generative AI"
   ]
  },
  {
   "cell_type": "markdown",
   "id": "30f0c0d2",
   "metadata": {},
   "source": [
    "### Supervised Learning\n",
    "\n",
    "can make predictions after seeing lots of data with the correct answers and then discovering the connections between the elements in the data that produce the correct answers. This is like a student learning new material by studying old exams that contain both questions and answers. Once the student has trained on enough old exams, the student is well prepared to take a new exam. These ML systems are \"supervised\" in the sense that a human gives the ML system data with the known correct results.\n",
    "\n",
    "Two of the most common use cases for supervised learning are regression and classification."
   ]
  },
  {
   "cell_type": "markdown",
   "id": "cbe51957",
   "metadata": {},
   "source": [
    "### Regression"
   ]
  },
  {
   "cell_type": "markdown",
   "id": "f76b74dd",
   "metadata": {},
   "source": [
    "predicts a numeric value. For example, a weather model that predicts the amount of rain, in inches or millimeters, is a regression model.\n"
   ]
  },
  {
   "cell_type": "code",
   "execution_count": 10,
   "id": "b34ac023",
   "metadata": {},
   "outputs": [
    {
     "data": {
      "text/plain": [
       "'-----------------------------------------------------------------------------------------------------------------------------'"
      ]
     },
     "execution_count": 10,
     "metadata": {},
     "output_type": "execute_result"
    }
   ],
   "source": [
    "n = \"-\"*125\n",
    "n"
   ]
  },
  {
   "cell_type": "markdown",
   "id": "28ed97dc",
   "metadata": {},
   "source": [
    "### Classification"
   ]
  },
  {
   "cell_type": "markdown",
   "id": "0cdef5bf",
   "metadata": {},
   "source": [
    "predict the likelihood that something belongs to a category. Unlike regression models, whose output is a number, classification models output a value that states whether or not something belongs to a particular category. For example, classification models are used to predict if an email is spam or if a photo contains a cat.\n",
    "\n",
    "Classification models are divided into two groups: binary classification and multiclass classification. Binary classification models output a value from a class that contains only two values, for example, a model that outputs either rain or no rain. Multiclass classification models output a value from a class that contains more than two values, for example, a model that can output either rain, hail, snow, or sleet."
   ]
  },
  {
   "cell_type": "markdown",
   "id": "5bcb2262",
   "metadata": {},
   "source": [
    "## Unsupervised Learning"
   ]
  },
  {
   "cell_type": "markdown",
   "id": "244f7b7a",
   "metadata": {},
   "source": [
    "Unsupervised learning models make predictions by being given data that does not contain any correct answers. An unsupervised learning model's goal is to identify meaningful patterns among the data. In other words, the model has no hints on how to categorize each piece of data, but instead it must infer its own rules.\n",
    "\n",
    "A commonly used unsupervised learning model employs a technique called clustering. The model finds data points that demarcate natural groupings."
   ]
  },
  {
   "cell_type": "markdown",
   "id": "d842f192",
   "metadata": {},
   "source": [
    "## Reinforcement Learning"
   ]
  },
  {
   "cell_type": "markdown",
   "id": "6d6dbbf0",
   "metadata": {},
   "source": [
    "Reinforcement learning models make predictions by getting rewards or penalties based on actions performed within an environment. A reinforcement learning system generates a policy that defines the best strategy for getting the most rewards.\n",
    "\n",
    "Reinforcement learning is used to train robots to perform tasks, like walking around a room, and software programs like AlphaGo to play the game of Go."
   ]
  },
  {
   "cell_type": "markdown",
   "id": "2a60312f",
   "metadata": {},
   "source": [
    "## Generative AI"
   ]
  },
  {
   "cell_type": "markdown",
   "id": "0bc79baf",
   "metadata": {},
   "source": [
    "Generative AI is a class of models that creates content from user input. For example, generative AI can create unique images, music compositions, and jokes; it can summarize articles, explain how to perform a task, or edit a photo.\n",
    "\n",
    "Generative AI can take a variety of inputs and create a variety of outputs, like text, images, audio, and video. It can also take and create combinations of these. For example, a model can take an image as input and create an image and text as output, or take an image and text as input and create a video as output.\n",
    "\n",
    "We can discuss generative models by their inputs and outputs, typically written as \"type of input\"-to-\"type of output.\" For example, the following is a partial list of some inputs and outputs for generative models:\n",
    "\n",
    "Text-to-text - \n",
    "Text-to-image - \n",
    "Text-to-video - \n",
    "Text-to-code - \n",
    "Text-to-speech - \n",
    "Image and text-to-image"
   ]
  },
  {
   "cell_type": "code",
   "execution_count": 2,
   "id": "e774dd23",
   "metadata": {},
   "outputs": [
    {
     "name": "stdout",
     "output_type": "stream",
     "text": [
      "0\n",
      "1\n",
      "2\n",
      "3\n",
      "5\n",
      "7\n",
      "11\n",
      "13\n",
      "17\n",
      "19\n",
      "23\n",
      "29\n"
     ]
    }
   ],
   "source": [
    "numbers = [ 0, 1, 2, 3, 4,5,6,7,8,9,10,11,21,13,14,15,16,17,18,19,20,22,23,24,25,27, 29]\n",
    "\n",
    "for number in numbers:\n",
    "  # Check if the number is prime.\n",
    "  is_prime = True\n",
    "  for i in range(2, number):\n",
    "    if number % i == 0:\n",
    "        is_prime = False\n",
    "        break\n",
    "  # If the number is prime, print it.\n",
    "  if is_prime:\n",
    "    print(number)"
   ]
  },
  {
   "cell_type": "markdown",
   "id": "ad53cfb1",
   "metadata": {},
   "source": [
    "# Supervised Learning \n",
    "\n"
   ]
  },
  {
   "cell_type": "markdown",
   "id": "396e926c",
   "metadata": {},
   "source": [
    "#### Supervised machine learning is based on the following core concepts:\n",
    "- Data\n",
    "- Model\n",
    "- Training\n",
    "- Evaluating\n",
    "- Inference"
   ]
  },
  {
   "cell_type": "markdown",
   "id": "fc9f0b44",
   "metadata": {},
   "source": [
    "Datasets are made up of individual examples that contain features and a label. You could think of an example as analogous to a single row in a spreadsheet. Features are the values that a supervised model uses to predict the label. The label is the \"answer,\" or the value we want the model to predict. In a weather model that predicts rainfall, the features could be latitude, longitude, temperature, humidity, cloud coverage, wind direction, and atmospheric pressure. The label would be rainfall amount."
   ]
  },
  {
   "cell_type": "markdown",
   "id": "d810271f",
   "metadata": {},
   "source": [
    "### Dataset characteristics"
   ]
  },
  {
   "cell_type": "markdown",
   "id": "9cb11a65",
   "metadata": {},
   "source": [
    "#### Data"
   ]
  },
  {
   "cell_type": "markdown",
   "id": "7d64bd57",
   "metadata": {
    "vscode": {
     "languageId": "markdown"
    }
   },
   "source": [
    "A dataset is characterized by its size and diversity. Size indicates the number of examples. Diversity indicates the range those examples cover. Good datasets are both large and highly diverse.\n",
    "\n",
    "Datasets can be large and diverse, or large but not diverse, or small but highly diverse. In other words, a large dataset doesn't guarantee sufficient diversity, and a dataset that is highly diverse doesn't guarantee sufficient examples.\n",
    "\n",
    "For instance, a dataset might contain 100 years worth of data, but only for the month of July. Using this dataset to predict rainfall in January would produce poor predictions. Conversely, a dataset might cover only a few years but contain every month. This dataset might produce poor predictions because it doesn't contain enough years to account for variability."
   ]
  },
  {
   "cell_type": "markdown",
   "id": "c40b7cf5",
   "metadata": {},
   "source": [
    "A dataset can also be characterized by the number of its features. For example, some weather datasets might contain hundreds of features, ranging from satellite imagery to cloud coverage values. Other datasets might contain only three or four features, like humidity, atmospheric pressure, and temperature. Datasets with more features can help a model discover additional patterns and make better predictions. However, datasets with more features don't always produce models that make better predictions because some features might have no causal relationship to the label."
   ]
  },
  {
   "cell_type": "markdown",
   "id": "09b61497",
   "metadata": {},
   "source": [
    "#### Model"
   ]
  },
  {
   "cell_type": "markdown",
   "id": "df95e422",
   "metadata": {},
   "source": [
    "In supervised learning, a model is the complex collection of numbers that define the mathematical relationship from specific input feature patterns to specific output label values. The model discovers these patterns through training.\n",
    "\n"
   ]
  },
  {
   "cell_type": "markdown",
   "id": "034e3c6a",
   "metadata": {},
   "source": [
    "#### Training"
   ]
  },
  {
   "cell_type": "markdown",
   "id": "f4c51374",
   "metadata": {},
   "source": [
    "Before a supervised model can make predictions, it must be trained. To train a model, we give the model a dataset with labeled examples. The model's goal is to work out the best solution for predicting the labels from the features. The model finds the best solution by comparing its predicted value to the label's actual value. Based on the difference between the predicted and actual values—defined as the loss—the model gradually updates its solution. In other words, the model learns the mathematical relationship between the features and the label so that it can make the best predictions on unseen data.\n",
    "\n",
    "For example, if the model predicted 1.15 inches of rain, but the actual value was .75 inches, the model modifies its solution so its prediction is closer to .75 inches. After the model has looked at each example in the dataset—in some cases, multiple times—it arrives at a solution that makes the best predictions, on average, for each of the examples."
   ]
  },
  {
   "cell_type": "markdown",
   "id": "0c7ceb03",
   "metadata": {},
   "source": [
    "In this way, the model gradually learns the correct relationship between the features and the label. This gradual understanding is also why large and diverse datasets produce a better model. The model has seen more data with a wider range of values and has refined its understanding of the relationship between the features and the label.\n",
    "\n",
    "During training, ML practitioners can make subtle adjustments to the configurations and features the model uses to make predictions. For example, certain features have more predictive power than others. Therefore, ML practitioners can select which features the model uses during training. For example, suppose a weather dataset containstime_of_day as a feature. In this case, an ML practitioner can add or remove time_of_day during training to see whether the model makes better predictions with or without it."
   ]
  },
  {
   "cell_type": "markdown",
   "id": "3c769fab",
   "metadata": {},
   "source": [
    "#### Evaluating"
   ]
  },
  {
   "cell_type": "markdown",
   "id": "85080e26",
   "metadata": {},
   "source": [
    "We evaluate a trained model to determine how well it learned. When we evaluate a model, we use a labeled dataset, but we only give the model the dataset's features. We then compare the model's predictions to the label's true values.\n",
    "\n"
   ]
  },
  {
   "cell_type": "code",
   "execution_count": 16,
   "id": "5727a082",
   "metadata": {},
   "outputs": [
    {
     "data": {
      "text/plain": [
       "'-----------------------------------------------------------------------------------------------------------------------------'"
      ]
     },
     "execution_count": 16,
     "metadata": {},
     "output_type": "execute_result"
    }
   ],
   "source": [
    "n"
   ]
  },
  {
   "cell_type": "code",
   "execution_count": 17,
   "id": "9fe71102",
   "metadata": {},
   "outputs": [
    {
     "data": {
      "text/plain": [
       "'-----------------------------------------------------------------------------------------------------------------------------'"
      ]
     },
     "execution_count": 17,
     "metadata": {},
     "output_type": "execute_result"
    }
   ],
   "source": [
    "n"
   ]
  },
  {
   "cell_type": "markdown",
   "id": "ff8ba927",
   "metadata": {},
   "source": [
    "## Linear Regression"
   ]
  },
  {
   "cell_type": "markdown",
   "id": "f841e21a",
   "metadata": {},
   "source": [
    "Linear regression is a statistical technique used to find the relationship between variables. In an ML context, linear regression finds the relationship between features and a label."
   ]
  },
  {
   "cell_type": "markdown",
   "id": "0772620f",
   "metadata": {},
   "source": [
    "In algebraic terms, the model would be defined as y = mx+b\n",
    ", where\n",
    "\n",
    " - y is miles per gallon—the value we want to predict.\n",
    " - m is the slope of the line.\n",
    " - x is pounds—our input value.\n",
    " - b is the y-intercept.\n",
    "\n",
    "In ML, we write the equation for a linear regression model as follows:\n",
    "\n",
    "y' = b + w_1x_1\n",
    "\n",
    "- y-dash is the predicted label—the output.\n",
    " - b is the bias of the model. Bias is the same concept as the y-intercept in the algebraic equation for a line. In ML, bias is sometimes referred to as \n",
    "w0. Bias is a parameter of the model and is calculated during training.\n",
    " - w1 is the weight of the feature. Weight is the same concept as the slope \n",
    " in the algebraic equation for a line. Weight is a parameter of the model and is calculated during training.\n",
    " - x1 is a feature—the input."
   ]
  },
  {
   "cell_type": "markdown",
   "id": "3aea94fd",
   "metadata": {},
   "source": [
    "Models with multiple features\n",
    "Although the example in this section uses only one feature—the heaviness of the car—a more sophisticated model might rely on multiple features, each having a separate weight (w1, w2, etc.). For example, a model that relies on five features would be written as follows:\n",
    "\n",
    "y' = b + w_1x_1 + w_2x_2 + w_3x_3 + w_4x_4 + w_5x_5"
   ]
  },
  {
   "cell_type": "markdown",
   "id": "390e3a44",
   "metadata": {},
   "source": [
    "## Linear regression: Loss "
   ]
  },
  {
   "cell_type": "markdown",
   "id": "3c35720d",
   "metadata": {},
   "source": [
    "Loss is a numerical metric that describes how wrong a model's predictions are. Loss measures the distance between the model's predictions and the actual labels. The goal of training a model is to minimize the loss, reducing it to its lowest possible value."
   ]
  },
  {
   "cell_type": "markdown",
   "id": "a6496127",
   "metadata": {},
   "source": [
    "In statistics and machine learning, loss measures the difference between the predicted and actual values. Loss focuses on the distance between the values, not the direction. For example, if a model predicts 2, but the actual value is 5, we don't care that the loss is negative 3 (2-5=-3)\n",
    "\n",
    "Instead, we care that the distance between the values is 3. Thus, all methods for calculating loss remove the sign.\n",
    "\n",
    "The two most common methods to remove the sign are the following:\n",
    "\n",
    "- Take the absolute value of the difference between the actual value and the prediction.\n",
    "- Square the difference between the actual value and the prediction."
   ]
  },
  {
   "cell_type": "markdown",
   "id": "da3dc952",
   "metadata": {},
   "source": [
    "## Types of loss"
   ]
  },
  {
   "cell_type": "markdown",
   "id": "2b71ffc6",
   "metadata": {},
   "source": [
    "- L1 loss:  The sum of the absolute values of the difference between the predicted values and the actual values.\n",
    "- Mean absolute error (MAE) : The average of L1 losses across a set of examples.\n",
    "- L2 loss: The sum of the squared difference between the predicted values and the actual values.\n",
    "- Mean squared error (MSE): The average of L2 losses across a set of examples."
   ]
  },
  {
   "cell_type": "markdown",
   "id": "56009a67",
   "metadata": {},
   "source": [
    "## Choosing of loss"
   ]
  },
  {
   "cell_type": "markdown",
   "id": "9c7b0ab3",
   "metadata": {},
   "source": [
    "Deciding whether to use MAE or MSE can depend on the dataset and the way you want to handle certain predictions. Most feature values in a dataset typically fall within a distinct range. For example, cars are normally between 2000 and 5000 pounds and get between 8 to 50 miles per gallon. An 8,000-pound car, or a car that gets 100 miles per gallon, is outside the typical range and would be considered an outlier.\n",
    "\n",
    "An outlier can also refer to how far off a model's predictions are from the real values. For instance, 3,000 pounds is within the typical car-weight range, and 40 miles per gallon is within the typical fuel-efficiency range. However, a 3,000-pound car that gets 40 miles per gallon would be an outlier in terms of the model's prediction because the model would predict that a 3,000-pound car would get between 18 and 20 miles per gallon.\n",
    "\n",
    "When choosing the best loss function, consider how you want the model to treat outliers. For instance, MSE moves the model more toward the outliers, while MAE doesn't. L2 loss incurs a much higher penalty for an outlier than L1 loss. For example, the following images show a model trained using MAE and a model trained using MSE. The red line represents a fully trained model that will be used to make predictions. The outliers are closer to the model trained with MSE than to the model trained with MAE."
   ]
  },
  {
   "cell_type": "markdown",
   "id": "baf320c9",
   "metadata": {},
   "source": [
    "## Linear Regression: Gradient Descent"
   ]
  },
  {
   "cell_type": "markdown",
   "id": "eda4c228",
   "metadata": {},
   "source": [
    "Gradient descent is a mathematical technique that iteratively finds the weights and bias that produce the model with the lowest loss. Gradient descent finds the best weight and bias by repeating the following process for a number of user-defined iterations.\n",
    "\n",
    "The model begins training with randomized weights and biases near zero, and then repeats the following steps:\n",
    "\n",
    "- Calculate the loss with the current weight and bias.\n",
    "\n",
    "- Determine the direction to move the weights and bias that reduce loss.\n",
    "\n",
    "- Move the weight and bias values a small amount in the direction that reduces loss.\n",
    "\n",
    "- Return to step one and repeat the process until the model can't reduce the loss any further."
   ]
  },
  {
   "cell_type": "markdown",
   "id": "5085afc5",
   "metadata": {},
   "source": [
    "## Convergence and convex functions"
   ]
  },
  {
   "cell_type": "markdown",
   "id": "9c5dfc99",
   "metadata": {},
   "source": [
    "The loss functions for linear models always produce a convex surface. As a result of this property, when a linear regression model converges, we know the model has found the weights and bias that produce the lowest loss.\n",
    "\n",
    "If we graph the loss surface for a model with one feature, we can see its convex shape. The following is the loss surface of the miles per gallon dataset used in the previous examples. Weight is on the x-axis, bias is on the y-axis, and loss is on the z-axis:"
   ]
  },
  {
   "cell_type": "code",
   "execution_count": 20,
   "id": "f42b8a18",
   "metadata": {},
   "outputs": [],
   "source": [
    "def prime(number):\n",
    "    if number <= 1:\n",
    "        return False\n",
    "    for i in range(2, number):\n",
    "        if number % i == 0:\n",
    "            return False\n",
    "    return True"
   ]
  },
  {
   "cell_type": "code",
   "execution_count": 30,
   "id": "2844d6af",
   "metadata": {},
   "outputs": [
    {
     "data": {
      "text/plain": [
       "True"
      ]
     },
     "execution_count": 30,
     "metadata": {},
     "output_type": "execute_result"
    }
   ],
   "source": [
    "prime(23)"
   ]
  },
  {
   "cell_type": "code",
   "execution_count": 41,
   "id": "2c3972da",
   "metadata": {},
   "outputs": [],
   "source": [
    "def even(number):\n",
    "    if number % 2 == 0:\n",
    "        return True\n",
    "    else:\n",
    "        return False"
   ]
  },
  {
   "cell_type": "code",
   "execution_count": 43,
   "id": "a48ead94",
   "metadata": {},
   "outputs": [
    {
     "data": {
      "text/plain": [
       "False"
      ]
     },
     "execution_count": 43,
     "metadata": {},
     "output_type": "execute_result"
    }
   ],
   "source": [
    "even(7)"
   ]
  },
  {
   "cell_type": "code",
   "execution_count": 45,
   "id": "a319bb35",
   "metadata": {},
   "outputs": [],
   "source": [
    "class ClassDecorator:\n",
    "    def __init__(self, func):\n",
    "        self.func = func\n",
    "        self.call_count = 0\n",
    "        \n",
    "    def __call__(self, *args, **kwds):\n",
    "        self.call_count += 1\n",
    "        print(f\"Call #{self.call_count} to {self.func.__name__}\")\n",
    "        return self.func(*args, **kwds)\n",
    "    \n",
    "@ClassDecorator\n",
    "def greet(name):\n",
    "    return f\"Hello, {name}!\"\n"
   ]
  },
  {
   "cell_type": "code",
   "execution_count": 69,
   "id": "a2c8aac1",
   "metadata": {},
   "outputs": [
    {
     "name": "stdout",
     "output_type": "stream",
     "text": [
      "Call #24 to greet\n",
      "Hello, Bob!\n"
     ]
    }
   ],
   "source": [
    "print(greet(\"Bob\"))"
   ]
  }
 ],
 "metadata": {
  "kernelspec": {
   "display_name": ".venv",
   "language": "python",
   "name": "python3"
  },
  "language_info": {
   "codemirror_mode": {
    "name": "ipython",
    "version": 3
   },
   "file_extension": ".py",
   "mimetype": "text/x-python",
   "name": "python",
   "nbconvert_exporter": "python",
   "pygments_lexer": "ipython3",
   "version": "3.12.10"
  }
 },
 "nbformat": 4,
 "nbformat_minor": 5
}
